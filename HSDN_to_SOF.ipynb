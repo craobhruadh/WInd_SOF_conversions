{
 "cells": [
  {
   "cell_type": "code",
   "execution_count": 66,
   "metadata": {},
   "outputs": [],
   "source": [
    "import numpy as np\n",
    "import pandas as pd\n",
    "import  datetime \n"
   ]
  },
  {
   "cell_type": "code",
   "execution_count": 67,
   "metadata": {},
   "outputs": [
    {
     "name": "stdout",
     "output_type": "stream",
     "text": [
      "Will output results to HDSN_2019_08_30.sof\n"
     ]
    }
   ],
   "source": [
    "# Change this variable to read in another file as long as it's the same path\n",
    "filename = 'HDSN_2019_08_30.txt'\n",
    "\n",
    "base = './input/'\n",
    "base_out = './output/'\n",
    "\n",
    "output_file = filename.split('.')[0] + '.sof'\n",
    "print('Will output results to', output_file)"
   ]
  },
  {
   "cell_type": "code",
   "execution_count": 68,
   "metadata": {},
   "outputs": [],
   "source": [
    "df = pd.read_csv(base + filename, sep='\\t')\n",
    "\n",
    "df_WD = df[df['Parameter'] == 'WD']\n",
    "df_WS = df[df['Parameter'] == 'WS']\n",
    "df = df_WD.merge(df_WS, on='Date (LST)')\n",
    "df = df[['Date (LST)', 'Value_x', 'Value_y']]\n",
    "\n",
    "df.rename(columns={'Value_x': 'Wind Direction', 'Value_y': 'Wind Speed'}, inplace=True)\n",
    "df['Wind Speed'] = df['Wind Speed']/2.23694"
   ]
  },
  {
   "cell_type": "code",
   "execution_count": 69,
   "metadata": {},
   "outputs": [],
   "source": [
    "#output_headers = ['%data based on file X:\\Sites\\SCAQMD\\2016\\Kvartal4-2016\\WIND\\Airmar/Nov_23_2016_3283794_0183.LOG'\n",
    "#'%[100,Year,daynumber,HHMM,SS,windspeed,winddir,mean10secWindspeed,mean10secWindDir,mean60secWidndSpeed,mean60secWindDir,SpeedOG,CourseOG,Lat,Long,rateOfTurn, magneticSensorHeading,baroPressureBar,temperature [c],lineNum]']\n",
    "\n",
    "output_header = '%100,year,dayOfYear,HHMM,Sec,Windspeed,WindDir'"
   ]
  },
  {
   "cell_type": "code",
   "execution_count": 70,
   "metadata": {
    "scrolled": false
   },
   "outputs": [],
   "source": [
    "with open(base_out + output_file, 'w') as f:\n",
    "    f.write(output_header + '\\n')\n",
    "    for i, row in df.iterrows():\n",
    "        date = datetime.datetime.strptime(row['Date (LST)'], '%Y/%m/%d %H:%M').timetuple()\n",
    "        nextline = ','.join(['100' , str(date.tm_year),  str(date.tm_yday), '{:02d}{:02d}'.format(date.tm_hour,date.tm_min), str(date.tm_sec), str(row['Wind Speed']),str(row['Wind Direction'] )])\n",
    "        f.write(nextline + '\\n')\n",
    " \n",
    "    "
   ]
  },
  {
   "cell_type": "code",
   "execution_count": null,
   "metadata": {},
   "outputs": [],
   "source": []
  }
 ],
 "metadata": {
  "kernelspec": {
   "display_name": "Python 3",
   "language": "python",
   "name": "python3"
  },
  "language_info": {
   "codemirror_mode": {
    "name": "ipython",
    "version": 3
   },
   "file_extension": ".py",
   "mimetype": "text/x-python",
   "name": "python",
   "nbconvert_exporter": "python",
   "pygments_lexer": "ipython3",
   "version": "3.7.3"
  }
 },
 "nbformat": 4,
 "nbformat_minor": 2
}
