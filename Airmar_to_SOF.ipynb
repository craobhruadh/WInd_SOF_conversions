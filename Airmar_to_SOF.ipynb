{
 "cells": [
  {
   "cell_type": "code",
   "execution_count": 87,
   "metadata": {},
   "outputs": [],
   "source": [
    "import pandas as pd\n",
    "import numpy as np\n",
    "import  datetime \n",
    "\n",
    "import io"
   ]
  },
  {
   "cell_type": "code",
   "execution_count": 88,
   "metadata": {},
   "outputs": [
    {
     "name": "stdout",
     "output_type": "stream",
     "text": [
      "Will output results to Sep_04_2019_2264098_0183.sof\n"
     ]
    }
   ],
   "source": [
    "# Change this variable to read in another file as long as it's the same path\n",
    "filename = 'Sep_04_2019_2264098_0183.log'\n",
    "\n",
    "base = './input/'\n",
    "base_out = './output/'\n",
    "with open(base+ filename, 'r') as f:\n",
    "    data = f.read()\n",
    "    \n",
    "output_file = filename.split('.')[0] + '.sof'\n",
    "print('Will output results to', output_file)"
   ]
  },
  {
   "cell_type": "code",
   "execution_count": 89,
   "metadata": {},
   "outputs": [],
   "source": [
    "data = data.split('\\n')\n",
    "data = [x for x in data if x != '']"
   ]
  },
  {
   "cell_type": "code",
   "execution_count": 90,
   "metadata": {},
   "outputs": [],
   "source": [
    "#count = [len(x.split(',')) for x in data]"
   ]
  },
  {
   "cell_type": "code",
   "execution_count": 91,
   "metadata": {},
   "outputs": [],
   "source": [
    "data = [x.replace(': <-', ',') for x in data]"
   ]
  },
  {
   "cell_type": "code",
   "execution_count": 92,
   "metadata": {},
   "outputs": [],
   "source": [
    "#keywords = [x.split(',')[1] for x in data]"
   ]
  },
  {
   "cell_type": "code",
   "execution_count": 93,
   "metadata": {},
   "outputs": [],
   "source": [
    "#eywords[0:10]"
   ]
  },
  {
   "cell_type": "code",
   "execution_count": 94,
   "metadata": {
    "scrolled": false
   },
   "outputs": [],
   "source": [
    "#pd.Series.value_counts(keywords)"
   ]
  },
  {
   "cell_type": "markdown",
   "metadata": {},
   "source": [
    "# Guide to Airmar codes\n",
    "Taken from here:\n",
    "http://www.airmartechnology.com/uploads/installguide/PB100TechnicalManual_rev1.007.pdf\n",
    "\n",
    "    HCHDG Heading, Deviation and Variation \n",
    "    WIMWV Wind Speed and Angle, in relation to the vessel’s bow/centerline (relative) \n",
    "    YXXDR (type A) Transducer Measurements: wind chill, heat index, and station pressure \n",
    "    WIMDA Meteorological Composite. Barometric pressure, air temperature, relative humidity, dew point, wind direction, wind speed \n",
    "    TIROT    \n",
    "    GPGSV GNSS Satellites in View \n",
    "    GPZDA Time and Date\n",
    "    \n",
    "    GPRMC Recommended Minimum Specific GNSS Data \n",
    "    GPGGA GPS Fix Data \n",
    "\n",
    "also see http://aprs.gids.nl/nmea/"
   ]
  },
  {
   "cell_type": "code",
   "execution_count": 95,
   "metadata": {},
   "outputs": [],
   "source": [
    "GPZDA = [x for x in data if x.split(',')[1].strip()=='$GPZDA']"
   ]
  },
  {
   "cell_type": "code",
   "execution_count": 96,
   "metadata": {
    "scrolled": false
   },
   "outputs": [],
   "source": [
    "#GPZDA[0:10]"
   ]
  },
  {
   "cell_type": "code",
   "execution_count": 97,
   "metadata": {},
   "outputs": [],
   "source": [
    "#GPZDA[0].split(',')"
   ]
  },
  {
   "cell_type": "code",
   "execution_count": 98,
   "metadata": {},
   "outputs": [],
   "source": [
    "date = '/'.join(GPZDA[0].split(',')[3:6])"
   ]
  },
  {
   "cell_type": "code",
   "execution_count": 99,
   "metadata": {
    "scrolled": true
   },
   "outputs": [],
   "source": [
    "wind_data =[]\n",
    "for line in data:\n",
    "    if line.split(',')[1].strip()=='$WIMWV':\n",
    "        line = line +','+ date\n",
    "        wind_data.append(line)\n",
    "    elif line.split(',')[1].strip()=='$GPZDA':\n",
    "        date = '/'.join(line.split(',')[3:6])\n"
   ]
  },
  {
   "cell_type": "code",
   "execution_count": 100,
   "metadata": {},
   "outputs": [],
   "source": [
    "#wind_data[0:10]"
   ]
  },
  {
   "cell_type": "code",
   "execution_count": 101,
   "metadata": {},
   "outputs": [],
   "source": [
    "df = pd.read_csv(io.StringIO('\\n'.join(wind_data)), names = ['Time', 'name', 'Wind Direction', 'Reference', 'Wind Speed', 'Units', 'Status', 'Date'])"
   ]
  },
  {
   "cell_type": "code",
   "execution_count": 102,
   "metadata": {},
   "outputs": [
    {
     "data": {
      "text/html": [
       "<div>\n",
       "<style scoped>\n",
       "    .dataframe tbody tr th:only-of-type {\n",
       "        vertical-align: middle;\n",
       "    }\n",
       "\n",
       "    .dataframe tbody tr th {\n",
       "        vertical-align: top;\n",
       "    }\n",
       "\n",
       "    .dataframe thead th {\n",
       "        text-align: right;\n",
       "    }\n",
       "</style>\n",
       "<table border=\"1\" class=\"dataframe\">\n",
       "  <thead>\n",
       "    <tr style=\"text-align: right;\">\n",
       "      <th></th>\n",
       "      <th>Time</th>\n",
       "      <th>name</th>\n",
       "      <th>Wind Direction</th>\n",
       "      <th>Reference</th>\n",
       "      <th>Wind Speed</th>\n",
       "      <th>Units</th>\n",
       "      <th>Status</th>\n",
       "      <th>Date</th>\n",
       "    </tr>\n",
       "  </thead>\n",
       "  <tbody>\n",
       "    <tr>\n",
       "      <th>0</th>\n",
       "      <td>14:10:04.481</td>\n",
       "      <td>$WIMWV</td>\n",
       "      <td>101.7</td>\n",
       "      <td>R</td>\n",
       "      <td>1.3</td>\n",
       "      <td>N</td>\n",
       "      <td>A*26</td>\n",
       "      <td>04/09/2019</td>\n",
       "    </tr>\n",
       "    <tr>\n",
       "      <th>1</th>\n",
       "      <td>14:10:04.961</td>\n",
       "      <td>$WIMWV</td>\n",
       "      <td>86.8</td>\n",
       "      <td>T</td>\n",
       "      <td>1.2</td>\n",
       "      <td>N</td>\n",
       "      <td>A*10</td>\n",
       "      <td>04/09/2019</td>\n",
       "    </tr>\n",
       "    <tr>\n",
       "      <th>2</th>\n",
       "      <td>14:10:27.675</td>\n",
       "      <td>$WIMWV</td>\n",
       "      <td>50.2</td>\n",
       "      <td>R</td>\n",
       "      <td>0.7</td>\n",
       "      <td>N</td>\n",
       "      <td>A*13</td>\n",
       "      <td>04/09/2019</td>\n",
       "    </tr>\n",
       "    <tr>\n",
       "      <th>3</th>\n",
       "      <td>14:10:28.059</td>\n",
       "      <td>$WIMWV</td>\n",
       "      <td>53.6</td>\n",
       "      <td>R</td>\n",
       "      <td>0.8</td>\n",
       "      <td>N</td>\n",
       "      <td>A*1B</td>\n",
       "      <td>04/09/2019</td>\n",
       "    </tr>\n",
       "    <tr>\n",
       "      <th>4</th>\n",
       "      <td>14:10:28.827</td>\n",
       "      <td>$WIMWV</td>\n",
       "      <td>33.9</td>\n",
       "      <td>R</td>\n",
       "      <td>0.7</td>\n",
       "      <td>N</td>\n",
       "      <td>A*1D</td>\n",
       "      <td>04/09/2019</td>\n",
       "    </tr>\n",
       "  </tbody>\n",
       "</table>\n",
       "</div>"
      ],
      "text/plain": [
       "           Time     name  Wind Direction Reference  Wind Speed Units Status  \\\n",
       "0  14:10:04.481   $WIMWV           101.7         R         1.3     N   A*26   \n",
       "1  14:10:04.961   $WIMWV            86.8         T         1.2     N   A*10   \n",
       "2  14:10:27.675   $WIMWV            50.2         R         0.7     N   A*13   \n",
       "3  14:10:28.059   $WIMWV            53.6         R         0.8     N   A*1B   \n",
       "4  14:10:28.827   $WIMWV            33.9         R         0.7     N   A*1D   \n",
       "\n",
       "         Date  \n",
       "0  04/09/2019  \n",
       "1  04/09/2019  \n",
       "2  04/09/2019  \n",
       "3  04/09/2019  \n",
       "4  04/09/2019  "
      ]
     },
     "execution_count": 102,
     "metadata": {},
     "output_type": "execute_result"
    }
   ],
   "source": [
    "df.head()"
   ]
  },
  {
   "cell_type": "code",
   "execution_count": 103,
   "metadata": {},
   "outputs": [],
   "source": [
    "df['Wind Speed'] = df['Wind Speed']  / 1.94384"
   ]
  },
  {
   "cell_type": "code",
   "execution_count": 104,
   "metadata": {},
   "outputs": [
    {
     "data": {
      "text/html": [
       "<div>\n",
       "<style scoped>\n",
       "    .dataframe tbody tr th:only-of-type {\n",
       "        vertical-align: middle;\n",
       "    }\n",
       "\n",
       "    .dataframe tbody tr th {\n",
       "        vertical-align: top;\n",
       "    }\n",
       "\n",
       "    .dataframe thead th {\n",
       "        text-align: right;\n",
       "    }\n",
       "</style>\n",
       "<table border=\"1\" class=\"dataframe\">\n",
       "  <thead>\n",
       "    <tr style=\"text-align: right;\">\n",
       "      <th></th>\n",
       "      <th>Time</th>\n",
       "      <th>name</th>\n",
       "      <th>Wind Direction</th>\n",
       "      <th>Reference</th>\n",
       "      <th>Wind Speed</th>\n",
       "      <th>Units</th>\n",
       "      <th>Status</th>\n",
       "      <th>Date</th>\n",
       "    </tr>\n",
       "  </thead>\n",
       "  <tbody>\n",
       "    <tr>\n",
       "      <th>0</th>\n",
       "      <td>14:10:04.481</td>\n",
       "      <td>$WIMWV</td>\n",
       "      <td>101.7</td>\n",
       "      <td>R</td>\n",
       "      <td>0.668779</td>\n",
       "      <td>N</td>\n",
       "      <td>A*26</td>\n",
       "      <td>04/09/2019</td>\n",
       "    </tr>\n",
       "    <tr>\n",
       "      <th>1</th>\n",
       "      <td>14:10:04.961</td>\n",
       "      <td>$WIMWV</td>\n",
       "      <td>86.8</td>\n",
       "      <td>T</td>\n",
       "      <td>0.617335</td>\n",
       "      <td>N</td>\n",
       "      <td>A*10</td>\n",
       "      <td>04/09/2019</td>\n",
       "    </tr>\n",
       "    <tr>\n",
       "      <th>2</th>\n",
       "      <td>14:10:27.675</td>\n",
       "      <td>$WIMWV</td>\n",
       "      <td>50.2</td>\n",
       "      <td>R</td>\n",
       "      <td>0.360112</td>\n",
       "      <td>N</td>\n",
       "      <td>A*13</td>\n",
       "      <td>04/09/2019</td>\n",
       "    </tr>\n",
       "    <tr>\n",
       "      <th>3</th>\n",
       "      <td>14:10:28.059</td>\n",
       "      <td>$WIMWV</td>\n",
       "      <td>53.6</td>\n",
       "      <td>R</td>\n",
       "      <td>0.411557</td>\n",
       "      <td>N</td>\n",
       "      <td>A*1B</td>\n",
       "      <td>04/09/2019</td>\n",
       "    </tr>\n",
       "    <tr>\n",
       "      <th>4</th>\n",
       "      <td>14:10:28.827</td>\n",
       "      <td>$WIMWV</td>\n",
       "      <td>33.9</td>\n",
       "      <td>R</td>\n",
       "      <td>0.360112</td>\n",
       "      <td>N</td>\n",
       "      <td>A*1D</td>\n",
       "      <td>04/09/2019</td>\n",
       "    </tr>\n",
       "  </tbody>\n",
       "</table>\n",
       "</div>"
      ],
      "text/plain": [
       "           Time     name  Wind Direction Reference  Wind Speed Units Status  \\\n",
       "0  14:10:04.481   $WIMWV           101.7         R    0.668779     N   A*26   \n",
       "1  14:10:04.961   $WIMWV            86.8         T    0.617335     N   A*10   \n",
       "2  14:10:27.675   $WIMWV            50.2         R    0.360112     N   A*13   \n",
       "3  14:10:28.059   $WIMWV            53.6         R    0.411557     N   A*1B   \n",
       "4  14:10:28.827   $WIMWV            33.9         R    0.360112     N   A*1D   \n",
       "\n",
       "         Date  \n",
       "0  04/09/2019  \n",
       "1  04/09/2019  \n",
       "2  04/09/2019  \n",
       "3  04/09/2019  \n",
       "4  04/09/2019  "
      ]
     },
     "execution_count": 104,
     "metadata": {},
     "output_type": "execute_result"
    }
   ],
   "source": [
    "df.head()"
   ]
  },
  {
   "cell_type": "code",
   "execution_count": 105,
   "metadata": {},
   "outputs": [
    {
     "data": {
      "text/html": [
       "<div>\n",
       "<style scoped>\n",
       "    .dataframe tbody tr th:only-of-type {\n",
       "        vertical-align: middle;\n",
       "    }\n",
       "\n",
       "    .dataframe tbody tr th {\n",
       "        vertical-align: top;\n",
       "    }\n",
       "\n",
       "    .dataframe thead th {\n",
       "        text-align: right;\n",
       "    }\n",
       "</style>\n",
       "<table border=\"1\" class=\"dataframe\">\n",
       "  <thead>\n",
       "    <tr style=\"text-align: right;\">\n",
       "      <th></th>\n",
       "      <th>Time</th>\n",
       "      <th>name</th>\n",
       "      <th>Wind Direction</th>\n",
       "      <th>Reference</th>\n",
       "      <th>Wind Speed</th>\n",
       "      <th>Units</th>\n",
       "      <th>Status</th>\n",
       "      <th>Date</th>\n",
       "    </tr>\n",
       "  </thead>\n",
       "  <tbody>\n",
       "    <tr>\n",
       "      <th>66037</th>\n",
       "      <td>23:59:57.446</td>\n",
       "      <td>$WIMWV</td>\n",
       "      <td>252.0</td>\n",
       "      <td>R</td>\n",
       "      <td>0.771668</td>\n",
       "      <td>N</td>\n",
       "      <td>A*22</td>\n",
       "      <td>05/09/2019</td>\n",
       "    </tr>\n",
       "    <tr>\n",
       "      <th>66038</th>\n",
       "      <td>23:59:58.069</td>\n",
       "      <td>$WIMWV</td>\n",
       "      <td>250.9</td>\n",
       "      <td>R</td>\n",
       "      <td>0.771668</td>\n",
       "      <td>N</td>\n",
       "      <td>A*29</td>\n",
       "      <td>05/09/2019</td>\n",
       "    </tr>\n",
       "    <tr>\n",
       "      <th>66039</th>\n",
       "      <td>23:59:58.453</td>\n",
       "      <td>$WIMWV</td>\n",
       "      <td>250.0</td>\n",
       "      <td>R</td>\n",
       "      <td>0.771668</td>\n",
       "      <td>N</td>\n",
       "      <td>A*20</td>\n",
       "      <td>05/09/2019</td>\n",
       "    </tr>\n",
       "    <tr>\n",
       "      <th>66040</th>\n",
       "      <td>23:59:58.948</td>\n",
       "      <td>$WIMWV</td>\n",
       "      <td>248.5</td>\n",
       "      <td>R</td>\n",
       "      <td>0.771668</td>\n",
       "      <td>N</td>\n",
       "      <td>A*2C</td>\n",
       "      <td>05/09/2019</td>\n",
       "    </tr>\n",
       "    <tr>\n",
       "      <th>66041</th>\n",
       "      <td>23:59:59.587</td>\n",
       "      <td>$WIMWV</td>\n",
       "      <td>248.8</td>\n",
       "      <td>R</td>\n",
       "      <td>0.771668</td>\n",
       "      <td>N</td>\n",
       "      <td>A*21</td>\n",
       "      <td>05/09/2019</td>\n",
       "    </tr>\n",
       "  </tbody>\n",
       "</table>\n",
       "</div>"
      ],
      "text/plain": [
       "               Time     name  Wind Direction Reference  Wind Speed Units  \\\n",
       "66037  23:59:57.446   $WIMWV           252.0         R    0.771668     N   \n",
       "66038  23:59:58.069   $WIMWV           250.9         R    0.771668     N   \n",
       "66039  23:59:58.453   $WIMWV           250.0         R    0.771668     N   \n",
       "66040  23:59:58.948   $WIMWV           248.5         R    0.771668     N   \n",
       "66041  23:59:59.587   $WIMWV           248.8         R    0.771668     N   \n",
       "\n",
       "      Status        Date  \n",
       "66037   A*22  05/09/2019  \n",
       "66038   A*29  05/09/2019  \n",
       "66039   A*20  05/09/2019  \n",
       "66040   A*2C  05/09/2019  \n",
       "66041   A*21  05/09/2019  "
      ]
     },
     "execution_count": 105,
     "metadata": {},
     "output_type": "execute_result"
    }
   ],
   "source": [
    "df.tail()"
   ]
  },
  {
   "cell_type": "code",
   "execution_count": 106,
   "metadata": {},
   "outputs": [],
   "source": [
    "\n",
    "output_header = '%100,year,dayOfYear,HHMM,Sec,Windspeed,WindDir'"
   ]
  },
  {
   "cell_type": "code",
   "execution_count": 107,
   "metadata": {
    "scrolled": false
   },
   "outputs": [],
   "source": [
    "\n",
    "with open(base_out + output_file, 'w') as f:\n",
    "    f.write(output_header + '\\n')\n",
    "    for i, row in df.iterrows():\n",
    "        # Note that airmar date is day/month/year in this format\n",
    "        date = datetime.datetime.strptime( row['Date']+' '+row['Time'].split('.')[0],  '%d/%m/%Y %H:%M:%S').timetuple()\n",
    "        nextline = ','.join(['100' , str(date.tm_year),  str(date.tm_yday), '{:02d}{:02d}'.format(date.tm_hour,date.tm_min), str(date.tm_sec), str(row['Wind Speed']),str(row['Wind Direction'] )])\n",
    "        f.write(nextline + '\\n')\n",
    " \n",
    "    "
   ]
  },
  {
   "cell_type": "code",
   "execution_count": null,
   "metadata": {},
   "outputs": [],
   "source": []
  }
 ],
 "metadata": {
  "kernelspec": {
   "display_name": "Python 3",
   "language": "python",
   "name": "python3"
  },
  "language_info": {
   "codemirror_mode": {
    "name": "ipython",
    "version": 3
   },
   "file_extension": ".py",
   "mimetype": "text/x-python",
   "name": "python",
   "nbconvert_exporter": "python",
   "pygments_lexer": "ipython3",
   "version": "3.7.3"
  }
 },
 "nbformat": 4,
 "nbformat_minor": 2
}
