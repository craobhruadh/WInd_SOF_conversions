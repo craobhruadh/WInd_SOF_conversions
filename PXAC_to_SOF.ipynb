{
 "cells": [
  {
   "cell_type": "code",
   "execution_count": 83,
   "metadata": {},
   "outputs": [],
   "source": [
    "import numpy as np\n",
    "import pandas as pd\n",
    "import  datetime \n",
    "import pytz"
   ]
  },
  {
   "cell_type": "code",
   "execution_count": 84,
   "metadata": {},
   "outputs": [
    {
     "name": "stdout",
     "output_type": "stream",
     "text": [
      "Will output results to 20190906_PXAC1.sof\n"
     ]
    }
   ],
   "source": [
    "# Change this variable to read in another file as long as it's the same path\n",
    "filename = '20190906_PXAC1.txt'\n",
    "\n",
    "\n",
    "\n",
    "base = './input/'\n",
    "base_out = './output/'\n",
    "\n",
    "output_file = filename.split('.')[0] + '.sof'\n",
    "print('Will output results to', output_file)"
   ]
  },
  {
   "cell_type": "markdown",
   "metadata": {},
   "source": [
    "Sample input file format: \n",
    "\n",
    "    #YY  MM DD hh mm WDIR WSPD GST  WVHT   DPD   APD MWD   PRES  ATMP  WTMP  DEWP  VIS PTDY  TIDE\n",
    "    #yr  mo dy hr mn degT m/s  m/s     m   sec   sec degT   hPa  degC  degC  degC  nmi  hPa    ft\n",
    "    2019 09 10 23 30 180  3.6  4.6    MM    MM    MM  MM     MM    MM    MM    MM   MM   MM    MM\n",
    "    2019 09 10 23 24 190  4.1  5.7    MM    MM    MM  MM     MM    MM    MM    MM   MM   MM    MM\n"
   ]
  },
  {
   "cell_type": "code",
   "execution_count": 85,
   "metadata": {},
   "outputs": [],
   "source": [
    "df = pd.read_csv(base + filename, sep='\\s+', header=1)"
   ]
  },
  {
   "cell_type": "code",
   "execution_count": 86,
   "metadata": {},
   "outputs": [],
   "source": [
    "#df.head()"
   ]
  },
  {
   "cell_type": "code",
   "execution_count": 87,
   "metadata": {},
   "outputs": [],
   "source": [
    "#output_headers = ['%data based on file X:\\Sites\\SCAQMD\\2016\\Kvartal4-2016\\WIND\\Airmar/Nov_23_2016_3283794_0183.LOG'\n",
    "#'%[100,Year,daynumber,HHMM,SS,windspeed,winddir,mean10secWindspeed,mean10secWindDir,mean60secWidndSpeed,mean60secWindDir,SpeedOG,CourseOG,Lat,Long,rateOfTurn, magneticSensorHeading,baroPressureBar,temperature [c],lineNum]']\n",
    "\n",
    "output_header = '%100,year,dayOfYear,HHMM,Sec,Windspeed,WindDir'"
   ]
  },
  {
   "cell_type": "code",
   "execution_count": 88,
   "metadata": {
    "scrolled": true
   },
   "outputs": [],
   "source": [
    "with open(base_out + output_file, 'w') as f:\n",
    "    f.write(output_header + '\\n')\n",
    "    for i, row in df.iterrows():\n",
    "        day = datetime.datetime(row['#yr'], row['mo'], row['dy'] , row['hr'], row['mn'], tzinfo=pytz.utc)\n",
    "        day = day.astimezone(tz=pytz.timezone('US/Pacific'))\n",
    "        day = day.timetuple()\n",
    "        nextline = ','.join(['100' , str(day.tm_year),  str(day.tm_yday), '{:02d}{:02d}'.format(day.tm_hour, day.tm_min), '0', str(row['m/s']),row['degT'] ])\n",
    "        f.write(nextline + '\\n')\n",
    "\n",
    "    "
   ]
  },
  {
   "cell_type": "code",
   "execution_count": null,
   "metadata": {},
   "outputs": [],
   "source": []
  }
 ],
 "metadata": {
  "kernelspec": {
   "display_name": "Python 3",
   "language": "python",
   "name": "python3"
  },
  "language_info": {
   "codemirror_mode": {
    "name": "ipython",
    "version": 3
   },
   "file_extension": ".py",
   "mimetype": "text/x-python",
   "name": "python",
   "nbconvert_exporter": "python",
   "pygments_lexer": "ipython3",
   "version": "3.7.3"
  }
 },
 "nbformat": 4,
 "nbformat_minor": 2
}
